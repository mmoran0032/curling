{
 "cells": [
  {
   "cell_type": "code",
   "execution_count": 1,
   "metadata": {
    "ExecuteTime": {
     "end_time": "2017-09-28T20:19:55.820937Z",
     "start_time": "2017-09-28T20:19:55.073899Z"
    }
   },
   "outputs": [
    {
     "name": "stdout",
     "output_type": "stream",
     "text": [
      "0.6.1\n"
     ]
    }
   ],
   "source": [
    "import wcf\n",
    "\n",
    "from processing.game import Game\n",
    "from processing.pipeline import convert, fields\n",
    "\n",
    "print(wcf.__version__)\n",
    "conn = wcf.API('../credentials/wcf.json').connect()"
   ]
  },
  {
   "cell_type": "code",
   "execution_count": 2,
   "metadata": {
    "ExecuteTime": {
     "end_time": "2017-09-28T20:19:59.078712Z",
     "start_time": "2017-09-28T20:19:56.729342Z"
    }
   },
   "outputs": [
    {
     "name": "stdout",
     "output_type": "stream",
     "text": [
      "RUS  88.0 | 0 0 0 0 1 0 2 0 | 3\n",
      "CAN* 80.0 | 0 2 1 0 0 3 0 2 | 8\n"
     ]
    }
   ],
   "source": [
    "test_tourney = conn.get_draws_by_tournament(579)\n",
    "test_game = Game(test_tourney[-1])\n",
    "raw_data = test_game.data\n",
    "test_game.convert()\n",
    "\n",
    "print(test_game)"
   ]
  },
  {
   "cell_type": "markdown",
   "metadata": {},
   "source": [
    "Build End Info\n",
    "----------------\n",
    "\n",
    "From our data, what we really need is the current game state, from which we can use it to predict which team will eventually win the game. The game state will include\n",
    "- the current end\n",
    "- the team that had the hammer (or if team 1 had hammer)\n",
    "- the team that scored, and how many points they scored (if a blank, team with hammer scores 0)\n",
    "- the score differential\n",
    "- the stolen point and stolen ends differential\n",
    "- the previous number of blank ends\n",
    "- additional metrics...?\n",
    "\n",
    "All differentials will be in reference to team 1 (other team is team 0), which should make it easier to predict whether or not team 1 will win. Plus, the probability from the model can just be reversed to get the team 0 information."
   ]
  },
  {
   "cell_type": "code",
   "execution_count": 3,
   "metadata": {
    "ExecuteTime": {
     "end_time": "2017-09-28T20:20:29.768105Z",
     "start_time": "2017-09-28T20:20:29.692751Z"
    }
   },
   "outputs": [
    {
     "data": {
      "text/html": [
       "<div>\n",
       "<style>\n",
       "    .dataframe thead tr:only-child th {\n",
       "        text-align: right;\n",
       "    }\n",
       "\n",
       "    .dataframe thead th {\n",
       "        text-align: left;\n",
       "    }\n",
       "\n",
       "    .dataframe tbody tr th {\n",
       "        vertical-align: top;\n",
       "    }\n",
       "</style>\n",
       "<table border=\"1\" class=\"dataframe\">\n",
       "  <thead>\n",
       "    <tr style=\"text-align: right;\">\n",
       "      <th></th>\n",
       "      <th>tourney_id</th>\n",
       "      <th>game_id</th>\n",
       "      <th>round</th>\n",
       "      <th>team_0</th>\n",
       "      <th>team_1</th>\n",
       "      <th>end_number</th>\n",
       "      <th>hammer</th>\n",
       "      <th>scored_points</th>\n",
       "      <th>scoring_team</th>\n",
       "      <th>score_diff</th>\n",
       "      <th>score_ends_diff</th>\n",
       "      <th>score_hammer_diff</th>\n",
       "      <th>score_hammer_ends_diff</th>\n",
       "      <th>steal_diff</th>\n",
       "      <th>steal_ends_diff</th>\n",
       "      <th>blanks</th>\n",
       "      <th>winning_team</th>\n",
       "    </tr>\n",
       "  </thead>\n",
       "  <tbody>\n",
       "    <tr>\n",
       "      <th>0</th>\n",
       "      <td>579</td>\n",
       "      <td>25534</td>\n",
       "      <td>F</td>\n",
       "      <td>RUS</td>\n",
       "      <td>CAN</td>\n",
       "      <td>1</td>\n",
       "      <td>1</td>\n",
       "      <td>1</td>\n",
       "      <td>0</td>\n",
       "      <td>0</td>\n",
       "      <td>0</td>\n",
       "      <td>0</td>\n",
       "      <td>0</td>\n",
       "      <td>0</td>\n",
       "      <td>0</td>\n",
       "      <td>1</td>\n",
       "      <td>1</td>\n",
       "    </tr>\n",
       "    <tr>\n",
       "      <th>1</th>\n",
       "      <td>579</td>\n",
       "      <td>25534</td>\n",
       "      <td>F</td>\n",
       "      <td>RUS</td>\n",
       "      <td>CAN</td>\n",
       "      <td>2</td>\n",
       "      <td>1</td>\n",
       "      <td>1</td>\n",
       "      <td>2</td>\n",
       "      <td>2</td>\n",
       "      <td>1</td>\n",
       "      <td>2</td>\n",
       "      <td>1</td>\n",
       "      <td>0</td>\n",
       "      <td>0</td>\n",
       "      <td>1</td>\n",
       "      <td>1</td>\n",
       "    </tr>\n",
       "    <tr>\n",
       "      <th>2</th>\n",
       "      <td>579</td>\n",
       "      <td>25534</td>\n",
       "      <td>F</td>\n",
       "      <td>RUS</td>\n",
       "      <td>CAN</td>\n",
       "      <td>3</td>\n",
       "      <td>0</td>\n",
       "      <td>1</td>\n",
       "      <td>1</td>\n",
       "      <td>3</td>\n",
       "      <td>2</td>\n",
       "      <td>2</td>\n",
       "      <td>1</td>\n",
       "      <td>1</td>\n",
       "      <td>1</td>\n",
       "      <td>1</td>\n",
       "      <td>1</td>\n",
       "    </tr>\n",
       "    <tr>\n",
       "      <th>3</th>\n",
       "      <td>579</td>\n",
       "      <td>25534</td>\n",
       "      <td>F</td>\n",
       "      <td>RUS</td>\n",
       "      <td>CAN</td>\n",
       "      <td>4</td>\n",
       "      <td>0</td>\n",
       "      <td>0</td>\n",
       "      <td>0</td>\n",
       "      <td>3</td>\n",
       "      <td>2</td>\n",
       "      <td>2</td>\n",
       "      <td>1</td>\n",
       "      <td>1</td>\n",
       "      <td>1</td>\n",
       "      <td>2</td>\n",
       "      <td>1</td>\n",
       "    </tr>\n",
       "    <tr>\n",
       "      <th>4</th>\n",
       "      <td>579</td>\n",
       "      <td>25534</td>\n",
       "      <td>F</td>\n",
       "      <td>RUS</td>\n",
       "      <td>CAN</td>\n",
       "      <td>5</td>\n",
       "      <td>0</td>\n",
       "      <td>0</td>\n",
       "      <td>1</td>\n",
       "      <td>2</td>\n",
       "      <td>1</td>\n",
       "      <td>1</td>\n",
       "      <td>0</td>\n",
       "      <td>1</td>\n",
       "      <td>1</td>\n",
       "      <td>2</td>\n",
       "      <td>1</td>\n",
       "    </tr>\n",
       "    <tr>\n",
       "      <th>5</th>\n",
       "      <td>579</td>\n",
       "      <td>25534</td>\n",
       "      <td>F</td>\n",
       "      <td>RUS</td>\n",
       "      <td>CAN</td>\n",
       "      <td>6</td>\n",
       "      <td>1</td>\n",
       "      <td>1</td>\n",
       "      <td>3</td>\n",
       "      <td>5</td>\n",
       "      <td>2</td>\n",
       "      <td>4</td>\n",
       "      <td>1</td>\n",
       "      <td>1</td>\n",
       "      <td>1</td>\n",
       "      <td>2</td>\n",
       "      <td>1</td>\n",
       "    </tr>\n",
       "    <tr>\n",
       "      <th>6</th>\n",
       "      <td>579</td>\n",
       "      <td>25534</td>\n",
       "      <td>F</td>\n",
       "      <td>RUS</td>\n",
       "      <td>CAN</td>\n",
       "      <td>7</td>\n",
       "      <td>0</td>\n",
       "      <td>0</td>\n",
       "      <td>2</td>\n",
       "      <td>3</td>\n",
       "      <td>1</td>\n",
       "      <td>2</td>\n",
       "      <td>0</td>\n",
       "      <td>1</td>\n",
       "      <td>1</td>\n",
       "      <td>2</td>\n",
       "      <td>1</td>\n",
       "    </tr>\n",
       "    <tr>\n",
       "      <th>7</th>\n",
       "      <td>579</td>\n",
       "      <td>25534</td>\n",
       "      <td>F</td>\n",
       "      <td>RUS</td>\n",
       "      <td>CAN</td>\n",
       "      <td>8</td>\n",
       "      <td>1</td>\n",
       "      <td>1</td>\n",
       "      <td>2</td>\n",
       "      <td>5</td>\n",
       "      <td>2</td>\n",
       "      <td>4</td>\n",
       "      <td>1</td>\n",
       "      <td>1</td>\n",
       "      <td>1</td>\n",
       "      <td>2</td>\n",
       "      <td>1</td>\n",
       "    </tr>\n",
       "  </tbody>\n",
       "</table>\n",
       "</div>"
      ],
      "text/plain": [
       "   tourney_id  game_id round team_0 team_1  end_number  hammer  scored_points  \\\n",
       "0         579    25534     F    RUS    CAN           1       1              1   \n",
       "1         579    25534     F    RUS    CAN           2       1              1   \n",
       "2         579    25534     F    RUS    CAN           3       0              1   \n",
       "3         579    25534     F    RUS    CAN           4       0              0   \n",
       "4         579    25534     F    RUS    CAN           5       0              0   \n",
       "5         579    25534     F    RUS    CAN           6       1              1   \n",
       "6         579    25534     F    RUS    CAN           7       0              0   \n",
       "7         579    25534     F    RUS    CAN           8       1              1   \n",
       "\n",
       "   scoring_team  score_diff  score_ends_diff  score_hammer_diff  \\\n",
       "0             0           0                0                  0   \n",
       "1             2           2                1                  2   \n",
       "2             1           3                2                  2   \n",
       "3             0           3                2                  2   \n",
       "4             1           2                1                  1   \n",
       "5             3           5                2                  4   \n",
       "6             2           3                1                  2   \n",
       "7             2           5                2                  4   \n",
       "\n",
       "   score_hammer_ends_diff  steal_diff  steal_ends_diff  blanks  winning_team  \n",
       "0                       0           0                0       1             1  \n",
       "1                       1           0                0       1             1  \n",
       "2                       1           1                1       1             1  \n",
       "3                       1           1                1       2             1  \n",
       "4                       0           1                1       2             1  \n",
       "5                       1           1                1       2             1  \n",
       "6                       0           1                1       2             1  \n",
       "7                       1           1                1       2             1  "
      ]
     },
     "execution_count": 3,
     "metadata": {},
     "output_type": "execute_result"
    }
   ],
   "source": [
    "test_game_processed = convert([test_game])\n",
    "test_game_processed"
   ]
  },
  {
   "cell_type": "markdown",
   "metadata": {},
   "source": [
    "Great! We have our processing pipeline set up (basic), and loading everything into a `pandas.DataFrame` looks to have worked well. We can repeat this processing for a whole bunch of tournaments (and a bunch of games), to build up a huge dataset.\n",
    "\n",
    "One thing that we probably should include is the gender of the game, or when we process we should save the information in separate data directories. This second option is probably a better choice, so let's set up that processing pipeline for us."
   ]
  },
  {
   "cell_type": "markdown",
   "metadata": {},
   "source": [
    "Plan\n",
    "-----\n",
    "\n",
    "Currently, `pipeline.convert` is just a simple function that returns a nested list of the converted information. Instead, we want to create a large pandas dataframe containing all of the information from a single tournament, and save it as a datafile for later processing. As each tournament will probably have around 70 games, each datafile will have around 600-700 entries."
   ]
  },
  {
   "cell_type": "code",
   "execution_count": 4,
   "metadata": {
    "ExecuteTime": {
     "end_time": "2017-09-28T20:20:31.371048Z",
     "start_time": "2017-09-28T20:20:31.366535Z"
    }
   },
   "outputs": [
    {
     "data": {
      "text/plain": [
       "71"
      ]
     },
     "execution_count": 4,
     "metadata": {},
     "output_type": "execute_result"
    }
   ],
   "source": [
    "len(test_tourney)"
   ]
  },
  {
   "cell_type": "markdown",
   "metadata": {
    "collapsed": true
   },
   "source": [
    "We need to create `Game`s for all 71 of the games, then run them through `convert` to get a single dataframe with all of the information."
   ]
  },
  {
   "cell_type": "code",
   "execution_count": 5,
   "metadata": {
    "ExecuteTime": {
     "end_time": "2017-09-28T20:20:34.052941Z",
     "start_time": "2017-09-28T20:20:34.021553Z"
    }
   },
   "outputs": [
    {
     "name": "stdout",
     "output_type": "stream",
     "text": [
      "(656, 17)\n"
     ]
    },
    {
     "data": {
      "text/html": [
       "<div>\n",
       "<style>\n",
       "    .dataframe thead tr:only-child th {\n",
       "        text-align: right;\n",
       "    }\n",
       "\n",
       "    .dataframe thead th {\n",
       "        text-align: left;\n",
       "    }\n",
       "\n",
       "    .dataframe tbody tr th {\n",
       "        vertical-align: top;\n",
       "    }\n",
       "</style>\n",
       "<table border=\"1\" class=\"dataframe\">\n",
       "  <thead>\n",
       "    <tr style=\"text-align: right;\">\n",
       "      <th></th>\n",
       "      <th>tourney_id</th>\n",
       "      <th>game_id</th>\n",
       "      <th>round</th>\n",
       "      <th>team_0</th>\n",
       "      <th>team_1</th>\n",
       "      <th>end_number</th>\n",
       "      <th>hammer</th>\n",
       "      <th>scored_points</th>\n",
       "      <th>scoring_team</th>\n",
       "      <th>score_diff</th>\n",
       "      <th>score_ends_diff</th>\n",
       "      <th>score_hammer_diff</th>\n",
       "      <th>score_hammer_ends_diff</th>\n",
       "      <th>steal_diff</th>\n",
       "      <th>steal_ends_diff</th>\n",
       "      <th>blanks</th>\n",
       "      <th>winning_team</th>\n",
       "    </tr>\n",
       "  </thead>\n",
       "  <tbody>\n",
       "    <tr>\n",
       "      <th>0</th>\n",
       "      <td>579</td>\n",
       "      <td>25464</td>\n",
       "      <td>1</td>\n",
       "      <td>USA</td>\n",
       "      <td>SCO</td>\n",
       "      <td>1</td>\n",
       "      <td>1</td>\n",
       "      <td>1</td>\n",
       "      <td>3</td>\n",
       "      <td>3</td>\n",
       "      <td>1</td>\n",
       "      <td>3</td>\n",
       "      <td>1</td>\n",
       "      <td>0</td>\n",
       "      <td>0</td>\n",
       "      <td>0</td>\n",
       "      <td>1</td>\n",
       "    </tr>\n",
       "    <tr>\n",
       "      <th>1</th>\n",
       "      <td>579</td>\n",
       "      <td>25464</td>\n",
       "      <td>1</td>\n",
       "      <td>USA</td>\n",
       "      <td>SCO</td>\n",
       "      <td>2</td>\n",
       "      <td>0</td>\n",
       "      <td>0</td>\n",
       "      <td>0</td>\n",
       "      <td>3</td>\n",
       "      <td>1</td>\n",
       "      <td>3</td>\n",
       "      <td>1</td>\n",
       "      <td>0</td>\n",
       "      <td>0</td>\n",
       "      <td>1</td>\n",
       "      <td>1</td>\n",
       "    </tr>\n",
       "    <tr>\n",
       "      <th>2</th>\n",
       "      <td>579</td>\n",
       "      <td>25464</td>\n",
       "      <td>1</td>\n",
       "      <td>USA</td>\n",
       "      <td>SCO</td>\n",
       "      <td>3</td>\n",
       "      <td>0</td>\n",
       "      <td>0</td>\n",
       "      <td>2</td>\n",
       "      <td>1</td>\n",
       "      <td>0</td>\n",
       "      <td>1</td>\n",
       "      <td>0</td>\n",
       "      <td>0</td>\n",
       "      <td>0</td>\n",
       "      <td>1</td>\n",
       "      <td>1</td>\n",
       "    </tr>\n",
       "    <tr>\n",
       "      <th>3</th>\n",
       "      <td>579</td>\n",
       "      <td>25464</td>\n",
       "      <td>1</td>\n",
       "      <td>USA</td>\n",
       "      <td>SCO</td>\n",
       "      <td>4</td>\n",
       "      <td>1</td>\n",
       "      <td>0</td>\n",
       "      <td>1</td>\n",
       "      <td>0</td>\n",
       "      <td>-1</td>\n",
       "      <td>1</td>\n",
       "      <td>0</td>\n",
       "      <td>-1</td>\n",
       "      <td>-1</td>\n",
       "      <td>1</td>\n",
       "      <td>1</td>\n",
       "    </tr>\n",
       "    <tr>\n",
       "      <th>4</th>\n",
       "      <td>579</td>\n",
       "      <td>25464</td>\n",
       "      <td>1</td>\n",
       "      <td>USA</td>\n",
       "      <td>SCO</td>\n",
       "      <td>5</td>\n",
       "      <td>1</td>\n",
       "      <td>1</td>\n",
       "      <td>3</td>\n",
       "      <td>3</td>\n",
       "      <td>0</td>\n",
       "      <td>4</td>\n",
       "      <td>1</td>\n",
       "      <td>-1</td>\n",
       "      <td>-1</td>\n",
       "      <td>1</td>\n",
       "      <td>1</td>\n",
       "    </tr>\n",
       "  </tbody>\n",
       "</table>\n",
       "</div>"
      ],
      "text/plain": [
       "   tourney_id  game_id round team_0 team_1  end_number  hammer  scored_points  \\\n",
       "0         579    25464     1    USA    SCO           1       1              1   \n",
       "1         579    25464     1    USA    SCO           2       0              0   \n",
       "2         579    25464     1    USA    SCO           3       0              0   \n",
       "3         579    25464     1    USA    SCO           4       1              0   \n",
       "4         579    25464     1    USA    SCO           5       1              1   \n",
       "\n",
       "   scoring_team  score_diff  score_ends_diff  score_hammer_diff  \\\n",
       "0             3           3                1                  3   \n",
       "1             0           3                1                  3   \n",
       "2             2           1                0                  1   \n",
       "3             1           0               -1                  1   \n",
       "4             3           3                0                  4   \n",
       "\n",
       "   score_hammer_ends_diff  steal_diff  steal_ends_diff  blanks  winning_team  \n",
       "0                       1           0                0       0             1  \n",
       "1                       1           0                0       1             1  \n",
       "2                       0           0                0       1             1  \n",
       "3                       0          -1               -1       1             1  \n",
       "4                       1          -1               -1       1             1  "
      ]
     },
     "execution_count": 5,
     "metadata": {},
     "output_type": "execute_result"
    }
   ],
   "source": [
    "games_converted = []\n",
    "for game in test_tourney:\n",
    "    single = Game(game)\n",
    "    single.convert()\n",
    "    games_converted.append(single)\n",
    "df = convert(games_converted)\n",
    "\n",
    "print(df.shape)\n",
    "df.head()"
   ]
  },
  {
   "cell_type": "code",
   "execution_count": 6,
   "metadata": {
    "ExecuteTime": {
     "end_time": "2017-09-28T20:20:34.959484Z",
     "start_time": "2017-09-28T20:20:34.955971Z"
    }
   },
   "outputs": [
    {
     "data": {
      "text/plain": [
       "9.23943661971831"
      ]
     },
     "execution_count": 6,
     "metadata": {},
     "output_type": "execute_result"
    }
   ],
   "source": [
    "656 / 71  # average ends per game"
   ]
  },
  {
   "cell_type": "code",
   "execution_count": 7,
   "metadata": {
    "ExecuteTime": {
     "end_time": "2017-09-28T20:20:35.830923Z",
     "start_time": "2017-09-28T20:20:35.827090Z"
    }
   },
   "outputs": [
    {
     "data": {
      "text/plain": [
       "'/home/mikemoran/bin/curling'"
      ]
     },
     "execution_count": 7,
     "metadata": {},
     "output_type": "execute_result"
    }
   ],
   "source": [
    "import os\n",
    "\n",
    "os.getcwd()"
   ]
  },
  {
   "cell_type": "code",
   "execution_count": 9,
   "metadata": {
    "ExecuteTime": {
     "end_time": "2017-09-28T20:20:43.405318Z",
     "start_time": "2017-09-28T20:20:43.363876Z"
    }
   },
   "outputs": [],
   "source": [
    "# os.makedirs('data/women')\n",
    "df.to_csv('data/women/579.csv')"
   ]
  },
  {
   "cell_type": "code",
   "execution_count": 10,
   "metadata": {
    "ExecuteTime": {
     "end_time": "2017-09-28T20:20:47.236578Z",
     "start_time": "2017-09-28T20:20:47.049758Z"
    }
   },
   "outputs": [
    {
     "name": "stdout",
     "output_type": "stream",
     "text": [
      "255.csv  293.csv  371.csv  402.csv  454.csv  507.csv  579.csv\r\n",
      "274.csv  313.csv  382.csv  444.csv  487.csv  554.csv\r\n"
     ]
    }
   ],
   "source": [
    "! ls data/women/"
   ]
  },
  {
   "cell_type": "markdown",
   "metadata": {},
   "source": [
    "Great! We have a basic pipeline that takes the raw data from the WCF, converts it into a dataframe, and saves that as a CSV file for later use. We can repeat this for a bunch of tournaments, saving them within the correct directory, and load everything in to do some analysis.\n",
    "\n",
    "I should be done doing the exploratory work for this here, and just build up a single script to process everything and get all of the data files in place."
   ]
  }
 ],
 "metadata": {
  "kernelspec": {
   "display_name": "Python 3",
   "language": "python",
   "name": "python3"
  },
  "language_info": {
   "codemirror_mode": {
    "name": "ipython",
    "version": 3
   },
   "file_extension": ".py",
   "mimetype": "text/x-python",
   "name": "python",
   "nbconvert_exporter": "python",
   "pygments_lexer": "ipython3",
   "version": "3.6.1"
  }
 },
 "nbformat": 4,
 "nbformat_minor": 2
}
