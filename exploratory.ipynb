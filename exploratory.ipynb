{
 "cells": [
  {
   "cell_type": "markdown",
   "metadata": {},
   "source": [
    "Exploratory Analysis\n",
    "====================\n",
    "\n",
    "First try at pulling the game data down and exploring how the website is organized."
   ]
  },
  {
   "cell_type": "code",
   "execution_count": 1,
   "metadata": {
    "collapsed": true
   },
   "outputs": [],
   "source": [
    "%matplotlib inline\n",
    "\n",
    "import matplotlib.pyplot as plt\n",
    "import numpy\n",
    "import pandas\n",
    "import seaborn\n",
    "\n",
    "from bs4 import BeautifulSoup\n",
    "import requests"
   ]
  },
  {
   "cell_type": "code",
   "execution_count": 2,
   "metadata": {
    "collapsed": true
   },
   "outputs": [],
   "source": [
    "test_site = 'http://results.worldcurling.org/Championship/Details/555'"
   ]
  },
  {
   "cell_type": "code",
   "execution_count": 3,
   "metadata": {
    "collapsed": true
   },
   "outputs": [],
   "source": [
    "r = requests.get(test_site)\n",
    "assert r.status_code == 200\n",
    "\n",
    "soup = BeautifulSoup(r.text, 'html.parser')"
   ]
  },
  {
   "cell_type": "markdown",
   "metadata": {},
   "source": [
    "Game Scores\n",
    "-----------\n",
    "\n",
    "From my quick search before setting up this notebook, I was only pulling the final scores, not the box scores... Let's see if I can figure that out."
   ]
  },
  {
   "cell_type": "code",
   "execution_count": 5,
   "metadata": {
    "collapsed": false
   },
   "outputs": [
    {
     "name": "stdout",
     "output_type": "stream",
     "text": [
      "88\n",
      "<td class=\"col-md-2 text-center\">\r\n",
      "(1)                            <br/>\r\n",
      "SWE - JPN                            <br/>\r\n",
      "8 - 5                    </td>\n"
     ]
    }
   ],
   "source": [
    "scores = soup.find_all('td', class_='col-md-2')\n",
    "print(len(scores))\n",
    "print(scores[0])"
   ]
  },
  {
   "cell_type": "code",
   "execution_count": 12,
   "metadata": {
    "collapsed": false
   },
   "outputs": [
    {
     "name": "stdout",
     "output_type": "stream",
     "text": [
      "{'team2': 'JPN', 'team1': 'SWE', 'team2_data': 5, 'team1_score': 8, 'draw': 1}\n"
     ]
    }
   ],
   "source": [
    "data = scores[0].text.split()\n",
    "game_data = {'draw': int(data[0].lstrip('(').rstrip(')')),\n",
    "             'team1': data[1], 'team2': data[3],\n",
    "             'team1_score': int(data[4]), 'team2_data': int(data[6])}\n",
    "print(game_data)"
   ]
  },
  {
   "cell_type": "code",
   "execution_count": 24,
   "metadata": {
    "collapsed": false
   },
   "outputs": [
    {
     "name": "stdout",
     "output_type": "stream",
     "text": [
      "71\n"
     ]
    }
   ],
   "source": [
    "def create_game_data(game_soup):\n",
    "    data = game_soup.text.split()\n",
    "    if len(data) > 1:\n",
    "        draw = data[0].lstrip('(').rstrip(')')\n",
    "        game_data = {'team1': data[1], 'team2': data[3],\n",
    "                     'team1_score': int(data[4]), 'team2_data': int(data[6])}\n",
    "        try:\n",
    "            game_data['playoffs'] = False\n",
    "            draw = int(draw)\n",
    "            game_data['draw'] = 'D{}'.format(draw)\n",
    "        except:\n",
    "            game_data['playoffs'] = True\n",
    "            game_data['draw'] = draw\n",
    "        return game_data\n",
    "\n",
    "tourney_data = [create_game_data(s) for s in scores]\n",
    "tourney_data = [d for d in tourney_data if d is not None]\n",
    "print(len(tourney_data))  # to see how many false positives we got from our soup.find_all"
   ]
  },
  {
   "cell_type": "code",
   "execution_count": null,
   "metadata": {
    "collapsed": true
   },
   "outputs": [],
   "source": []
  }
 ],
 "metadata": {
  "kernelspec": {
   "display_name": "Python 3",
   "language": "python",
   "name": "python3"
  },
  "language_info": {
   "codemirror_mode": {
    "name": "ipython",
    "version": 3
   },
   "file_extension": ".py",
   "mimetype": "text/x-python",
   "name": "python",
   "nbconvert_exporter": "python",
   "pygments_lexer": "ipython3",
   "version": "3.5.1"
  }
 },
 "nbformat": 4,
 "nbformat_minor": 0
}
