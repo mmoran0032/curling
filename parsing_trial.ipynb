{
 "cells": [
  {
   "cell_type": "markdown",
   "metadata": {},
   "source": [
    "Parsing Trial\n",
    "=============\n",
    "\n",
    "I can get the raw data, but raw curling box scores isn't as interesting at the data that goes into strategic decisions, like whether to blank an end or hammer scoring conversions. We can get a lot of this team-agnostic data from just the box scores, which is great!\n",
    "\n",
    "The initial work to pull in data will be almost identical to what we did during the exploratory analysis, making it another case to develop my own access API for the data..."
   ]
  },
  {
   "cell_type": "code",
   "execution_count": 1,
   "metadata": {
    "collapsed": true
   },
   "outputs": [],
   "source": [
    "%matplotlib inline\n",
    "\n",
    "import re\n",
    "\n",
    "import matplotlib.pyplot as plt\n",
    "import numpy\n",
    "import pandas\n",
    "import seaborn\n",
    "\n",
    "from bs4 import BeautifulSoup\n",
    "import requests"
   ]
  },
  {
   "cell_type": "code",
   "execution_count": 2,
   "metadata": {
    "collapsed": false
   },
   "outputs": [],
   "source": [
    "name = re.compile('[\\w\\s]+')\n",
    "params = {'tournamentId': 555, 'associationId': 0, 'drawNumber': 0}\n",
    "results_site = r'http://results.worldcurling.org/Championship/DisplayResults'\n",
    "\n",
    "r = requests.get(results_site, params=params)\n",
    "assert r.status_code == 200\n",
    "soup = BeautifulSoup(r.text, 'html.parser')"
   ]
  },
  {
   "cell_type": "code",
   "execution_count": 3,
   "metadata": {
    "collapsed": false
   },
   "outputs": [
    {
     "data": {
      "text/plain": [
       "71"
      ]
     },
     "execution_count": 3,
     "metadata": {},
     "output_type": "execute_result"
    }
   ],
   "source": [
    "box_scores = soup.find_all('table', class_='game-table')\n",
    "len(box_scores)"
   ]
  },
  {
   "cell_type": "code",
   "execution_count": 4,
   "metadata": {
    "collapsed": false
   },
   "outputs": [
    {
     "name": "stdout",
     "output_type": "stream",
     "text": [
      "<table class=\"table game-table\">\n",
      "<thead>\n",
      "<tr class=\"game-header-row\">\n",
      "<th class=\"game-header text-center\" colspan=\"3\">\r\n",
      "Draw #1            </th>\n",
      "<th class=\"text-center\">1</th>\n",
      "<th class=\"text-center\">2</th>\n",
      "<th class=\"text-center\">3</th>\n",
      "<th class=\"text-center\">4</th>\n",
      "<th class=\"text-center\">5</th>\n",
      "<th class=\"text-center\">6</th>\n",
      "<th class=\"text-center\">7</th>\n",
      "<th class=\"text-center\">8</th>\n",
      "<th class=\"text-center\">9</th>\n",
      "<th class=\"text-center\">10</th>\n",
      "<th class=\"text-center\"> </th>\n",
      "<th class=\"text-center\"> </th>\n",
      "<th class=\"text-right\">Total</th>\n",
      "</tr>\n",
      "</thead>\n",
      "<tbody>\n",
      "<tr>\n",
      "<td class=\"game-sheet\" rowspan=\"2\" style=\"vertical-align:middle\">\r\n",
      "A            </td>\n",
      "<td class=\"game-team\">\r\n",
      "                Sweden\r\n",
      "            </td>\n",
      "<td class=\"game-hammer\">\r\n",
      "                     \r\n",
      "            </td>\n",
      "<td class=\" game-end10 text-center\">\r\n",
      "                    1\r\n",
      "                </td>\n",
      "<td class=\" game-end10 text-center\">\r\n",
      "                    0\r\n",
      "                </td>\n",
      "<td class=\" game-end10 text-center\">\r\n",
      "                    2\r\n",
      "                </td>\n",
      "<td class=\" game-end10 text-center\">\r\n",
      "                    0\r\n",
      "                </td>\n",
      "<td class=\" game-end10 text-center\">\r\n",
      "                    1\r\n",
      "                </td>\n",
      "<td class=\" game-end10 text-center\">\r\n",
      "                    0\r\n",
      "                </td>\n",
      "<td class=\" game-end10 text-center\">\r\n",
      "                    2\r\n",
      "                </td>\n",
      "<td class=\" game-end10 text-center\">\r\n",
      "                    0\r\n",
      "                </td>\n",
      "<td class=\" game-end10 text-center\">\r\n",
      "                    0\r\n",
      "                </td>\n",
      "<td class=\" game-end10 text-center\">\r\n",
      "                    2\r\n",
      "                </td>\n",
      "<td class=\" game-end10 text-center\">\r\n",
      "                             \r\n",
      "\r\n",
      "                </td>\n",
      "<td class=\" game-end10 text-center\">\r\n",
      "                             \r\n",
      "\r\n",
      "                </td>\n",
      "<td class=\"game-total text-right\">\r\n",
      "                8\r\n",
      "            </td>\n",
      "</tr>\n",
      "<tr>\n",
      "<td class=\"game-team\">Japan</td>\n",
      "<td class=\"game-hammer\">\r\n",
      "                    *\r\n",
      "            </td>\n",
      "<td class=\" game-end10 text-center\">\r\n",
      "                    0\r\n",
      "                </td>\n",
      "<td class=\" game-end10 text-center\">\r\n",
      "                    1\r\n",
      "                </td>\n",
      "<td class=\" game-end10 text-center\">\r\n",
      "                    0\r\n",
      "                </td>\n",
      "<td class=\" game-end10 text-center\">\r\n",
      "                    2\r\n",
      "                </td>\n",
      "<td class=\" game-end10 text-center\">\r\n",
      "                    0\r\n",
      "                </td>\n",
      "<td class=\" game-end10 text-center\">\r\n",
      "                    0\r\n",
      "                </td>\n",
      "<td class=\" game-end10 text-center\">\r\n",
      "                    0\r\n",
      "                </td>\n",
      "<td class=\" game-end10 text-center\">\r\n",
      "                    2\r\n",
      "                </td>\n",
      "<td class=\" game-end10 text-center\">\r\n",
      "                    0\r\n",
      "                </td>\n",
      "<td class=\" game-end10 text-center\">\r\n",
      "                    0\r\n",
      "                </td>\n",
      "<td class=\" game-end10 text-center\">\r\n",
      "                             \r\n",
      "\r\n",
      "                </td>\n",
      "<td class=\" game-end10 text-center\">\r\n",
      "                             \r\n",
      "\r\n",
      "                </td>\n",
      "<td class=\"game-total text-right\">\r\n",
      "                5\r\n",
      "            </td>\n",
      "</tr>\n",
      "</tbody>\n",
      "</table>\n"
     ]
    }
   ],
   "source": [
    "print(box_scores[0])"
   ]
  },
  {
   "cell_type": "markdown",
   "metadata": {},
   "source": [
    "OK, we have our box scores loaded in correctly, so let's work on pulling out the data. We'll build up just the general raw data first, then do some operations on it. Let's grab our basic information from the single game data, then worry about organizing the trickier end score data."
   ]
  },
  {
   "cell_type": "code",
   "execution_count": 5,
   "metadata": {
    "collapsed": false
   },
   "outputs": [
    {
     "name": "stdout",
     "output_type": "stream",
     "text": [
      "Sweden  8\n",
      "Japan * 5\n"
     ]
    }
   ],
   "source": [
    "game = box_scores[0]  # just to test\n",
    "\n",
    "draw = game.find('th', class_='game-header').text.strip()\n",
    "sheet = game.find('td', class_='game-sheet').text.strip()\n",
    "teams = [t.text.strip() for t in game.find_all('td', class_='game-team')]\n",
    "hammer = [h.text.strip() for h in game.find_all('td', class_='game-hammer')]\n",
    "final_score = [int(s.text.strip()) for s in game.find_all('td', class_='game-total')]\n",
    "\n",
    "for t, h, f in zip(teams, hammer, final_score):\n",
    "    print(t, h, f)"
   ]
  },
  {
   "cell_type": "code",
   "execution_count": 14,
   "metadata": {
    "collapsed": false
   },
   "outputs": [
    {
     "data": {
      "text/plain": [
       "'Draw #1'"
      ]
     },
     "execution_count": 14,
     "metadata": {},
     "output_type": "execute_result"
    }
   ],
   "source": [
    "draw"
   ]
  },
  {
   "cell_type": "code",
   "execution_count": 6,
   "metadata": {
    "collapsed": false
   },
   "outputs": [
    {
     "name": "stdout",
     "output_type": "stream",
     "text": [
      "[[1, 0, 2, 0, 1, 0, 2, 0, 0, 2], [0, 1, 0, 2, 0, 0, 0, 2, 0, 0]]\n",
      "('Sweden', '', [1, 0, 2, 0, 1, 0, 2, 0, 0, 2], 8)\n",
      "('Japan', '*', [0, 1, 0, 2, 0, 0, 0, 2, 0, 0], 5)\n"
     ]
    }
   ],
   "source": [
    "rows = game.find_all('tr', class_=None)\n",
    "\n",
    "end_data = []\n",
    "for row in rows:\n",
    "    scores = row.find_all('td', class_='game-end10')\n",
    "    scores = [s.text.strip() for s in scores]\n",
    "    scores = [int(s) for s in scores if s is not '']\n",
    "    end_data.append(scores)\n",
    "\n",
    "print(end_data)\n",
    "for data in zip(teams, hammer, end_data, final_score):\n",
    "    print(data)"
   ]
  },
  {
   "cell_type": "markdown",
   "metadata": {},
   "source": [
    "Awesome! I think this way is a little easier or clearer than what I had done before, plus it gets around having a bunch of `if` statements just to avoid the information present in the header row. This is looking good. Now, I can generate real data from this information.\n",
    "\n",
    "Here's the (very rough) idea:\n",
    "1. keep track of which team currently has the hammer\n",
    "1. walk through the `end_data` and record the \"type\" of end for both teams\n",
    "1. once you have this for every end, get aggregate data\n",
    "\n",
    "Yeah, that is pretty vague, but we'll see.\n",
    "\n",
    "Looking back at my previous code, I had to use `re` to get the team name... I'm not sure why that was, but I'll keep an eye on this just in case I get weird results using the above instead of `re`."
   ]
  },
  {
   "cell_type": "code",
   "execution_count": 7,
   "metadata": {
    "collapsed": false
   },
   "outputs": [
    {
     "name": "stdout",
     "output_type": "stream",
     "text": [
      "('Sweden', 'Japan')\n",
      "([1, 'steal'], [0, 'blank-with-hammer'])\n",
      "([0, 'blank'], [1, 'score-with-hammer'])\n",
      "([2, 'score-with-hammer'], [0, 'blank'])\n",
      "([0, 'blank'], [2, 'score-with-hammer'])\n",
      "([1, 'score-with-hammer'], [0, 'blank'])\n",
      "([0, 'blank'], [0, 'blank-with-hammer'])\n",
      "([2, 'steal'], [0, 'blank-with-hammer'])\n",
      "([0, 'blank'], [2, 'score-with-hammer'])\n",
      "([0, 'blank-with-hammer'], [0, 'blank'])\n",
      "([2, 'score-with-hammer'], [0, 'blank'])\n"
     ]
    }
   ],
   "source": [
    "# note: use 'blank' for end you don't score in...? probably need more types\n",
    "end_types = ('blank', 'blank-with-hammer', 'score-with-hammer', 'steal')  # steal == score-without-hammer\n",
    "team0_data = [teams[0]]\n",
    "team1_data = [teams[1]]\n",
    "\n",
    "# transpose end data using zip trick\n",
    "end_dataT = [[s1, s2] for s1, s2 in zip(*end_data)]\n",
    "hammer_team = hammer.index('*')\n",
    "\n",
    "def decide_end_type(points, hammer=False):\n",
    "    if points > 0 and hammer:\n",
    "        return end_types[2]\n",
    "    elif points == 0 and hammer:\n",
    "        return end_types[1]\n",
    "    elif points > 0 and not hammer:\n",
    "        return end_types[3]\n",
    "    elif points == 0 and not hammer:\n",
    "        return end_types[0]\n",
    "\n",
    "for score in end_dataT:\n",
    "    team0_score, team1_score = score\n",
    "    t0_end, t1_end = [team0_score], [team1_score]\n",
    "    \n",
    "    t0_end.append(decide_end_type(team0_score, hammer=(hammer_team == 0)))\n",
    "    t1_end.append(decide_end_type(team1_score, hammer=(hammer_team == 1)))\n",
    "    \n",
    "    team0_data.append(t0_end)\n",
    "    team1_data.append(t1_end)\n",
    "    \n",
    "    # adjust hammer if score, don't if neither team scores\n",
    "    if team0_score > 0:\n",
    "        hammer_team = 1\n",
    "    elif team1_score > 0:\n",
    "        hammer_team = 0\n",
    "\n",
    "for data in zip(team0_data, team1_data):\n",
    "    print(data)"
   ]
  },
  {
   "cell_type": "markdown",
   "metadata": {},
   "source": [
    "As a first pass, this isn't bad. I obviously have to couple the two streams together more, since recording a `'blank-with-hammer'` because the other team scored is not good... Looks like the `decide_end_types` should just take in both scores *and* the team with the hammer and return two values (or three, if you want to push updating the team with the hammer to this). That would probably make it nicer."
   ]
  },
  {
   "cell_type": "code",
   "execution_count": 8,
   "metadata": {
    "collapsed": true
   },
   "outputs": [],
   "source": [
    "def determine_end_types(t0_score, t1_score, hammer_team):\n",
    "    # regular scoring\n",
    "    if t0_score > 0 and hammer_team == 0:\n",
    "        return 'score-with-hammer', 'blank'\n",
    "    elif t1_score > 0 and hammer_team == 1:\n",
    "        return 'blank', 'score-with-hammer'\n",
    "    # steals\n",
    "    elif t0_score > 0 and hammer_team == 1:\n",
    "        return 'steal', 'blank'\n",
    "    elif t1_score > 0 and hammer_team == 0:\n",
    "        return 'blank', 'steal'\n",
    "    # blanks\n",
    "    elif t0_score == 0 and t1_score == 0 and hammer_team == 0:\n",
    "        return 'blank-with-hammer', 'blank'\n",
    "    elif t0_score == 0 and t1_score == 0 and hammer_team == 1:\n",
    "        return 'blank', 'blank-with-hammer'"
   ]
  },
  {
   "cell_type": "code",
   "execution_count": 9,
   "metadata": {
    "collapsed": false
   },
   "outputs": [
    {
     "name": "stdout",
     "output_type": "stream",
     "text": [
      "('Sweden', 'Japan')\n",
      "([1, 'steal'], [0, 'blank'])\n",
      "([0, 'blank'], [1, 'score-with-hammer'])\n",
      "([2, 'score-with-hammer'], [0, 'blank'])\n",
      "([0, 'blank'], [2, 'score-with-hammer'])\n",
      "([1, 'score-with-hammer'], [0, 'blank'])\n",
      "([0, 'blank'], [0, 'blank-with-hammer'])\n",
      "([2, 'steal'], [0, 'blank'])\n",
      "([0, 'blank'], [2, 'score-with-hammer'])\n",
      "([0, 'blank-with-hammer'], [0, 'blank'])\n",
      "([2, 'score-with-hammer'], [0, 'blank'])\n"
     ]
    }
   ],
   "source": [
    "team0_data = [teams[0]]\n",
    "team1_data = [teams[1]]\n",
    "hammer_team = hammer.index('*')\n",
    "\n",
    "for score in end_dataT:\n",
    "    t0_score, t1_score = score\n",
    "    t0_type, t1_type = determine_end_types(t0_score, t1_score, hammer_team)\n",
    "    \n",
    "    t0_end, t1_end = [t0_score, t0_type], [t1_score, t1_type]\n",
    "    team0_data.append(t0_end)\n",
    "    team1_data.append(t1_end)\n",
    "    \n",
    "    # adjust hammer if score, don't if neither team scores\n",
    "    if t0_score > 0:\n",
    "        hammer_team = 1\n",
    "    elif t1_score > 0:\n",
    "        hammer_team = 0\n",
    "\n",
    "for data in zip(team0_data, team1_data):\n",
    "    print(data)"
   ]
  },
  {
   "cell_type": "markdown",
   "metadata": {},
   "source": [
    "OK, great! Now that we have this, we can start getting aggregate data from the game. Let's keep track of total ends, total ends with hammer, stolen ends, scoring with hammer ends, and scoring 2+ points with hammer. I'm going to restrict how much of the team stats are based on what the other team does."
   ]
  },
  {
   "cell_type": "code",
   "execution_count": 10,
   "metadata": {
    "collapsed": false
   },
   "outputs": [
    {
     "data": {
      "text/plain": [
       "['Sweden',\n",
       " [1, 'steal'],\n",
       " [0, 'blank'],\n",
       " [2, 'score-with-hammer'],\n",
       " [0, 'blank'],\n",
       " [1, 'score-with-hammer'],\n",
       " [0, 'blank'],\n",
       " [2, 'steal'],\n",
       " [0, 'blank'],\n",
       " [0, 'blank-with-hammer'],\n",
       " [2, 'score-with-hammer']]"
      ]
     },
     "execution_count": 10,
     "metadata": {},
     "output_type": "execute_result"
    }
   ],
   "source": [
    "team0_data"
   ]
  },
  {
   "cell_type": "code",
   "execution_count": 11,
   "metadata": {
    "collapsed": false
   },
   "outputs": [
    {
     "name": "stdout",
     "output_type": "stream",
     "text": [
      "{'team-name': 'Sweden', 'stolen-points': 3, 'blank': 4, 'total-score': 8, 'blank-with-hammer': 1, 'steal': 2, 'score-with-hammer': 3, 'total-ends': 10, 'score-2+-with-hammer': 2}\n",
      "{'team-name': 'Japan', 'stolen-points': 0, 'blank': 6, 'total-score': 5, 'blank-with-hammer': 1, 'steal': 0, 'score-with-hammer': 3, 'total-ends': 10, 'score-2+-with-hammer': 2}\n"
     ]
    }
   ],
   "source": [
    "def get_aggregate(team_data):\n",
    "    data = {'blank': 0, 'blank-with-hammer': 0, 'steal': 0,\n",
    "            'score-with-hammer': 0, 'score-2+-with-hammer': 0,\n",
    "            'team-name': team_data[0], 'total-ends': len(team_data) - 1,\n",
    "            'total-score': 0, 'stolen-points': 0}\n",
    "    ends = team_data[1:]\n",
    "    for end in ends:\n",
    "        data[end[1]] += 1\n",
    "        data['total-score'] += end[0]\n",
    "        if end[1] == 'score-with-hammer' and end[0] > 1:\n",
    "            data['score-2+-with-hammer'] += 1\n",
    "        if end[1] == 'steal':\n",
    "            data['stolen-points'] += end[0]\n",
    "    return data\n",
    "\n",
    "t0_aggregate = get_aggregate(team0_data)\n",
    "t1_aggregate = get_aggregate(team1_data)\n",
    "print(t0_aggregate)\n",
    "print(t1_aggregate)"
   ]
  },
  {
   "cell_type": "markdown",
   "metadata": {},
   "source": [
    "OK, that seems like pretty decent aggregate data for now. It's not that bad for just a single box score.\n",
    "\n",
    "We should also keep track of where the points are coming from, since stealing a lot of points is good. Let's include that above, so we don't have to reimplement everything."
   ]
  },
  {
   "cell_type": "markdown",
   "metadata": {
    "collapsed": true
   },
   "source": [
    "This seems like a good way to build up aggregate data for a single tournament. Look over all of the games within round robin, then use that aggregate data to predict the match-up winners in bracket-play."
   ]
  },
  {
   "cell_type": "code",
   "execution_count": 12,
   "metadata": {
    "collapsed": false
   },
   "outputs": [
    {
     "name": "stdout",
     "output_type": "stream",
     "text": [
      "71\n",
      "Final\n"
     ]
    }
   ],
   "source": [
    "print(len(box_scores))\n",
    "\n",
    "final = box_scores[-1]\n",
    "game_type = final.find('th', class_='game-header').text.strip()\n",
    "print(game_type)"
   ]
  },
  {
   "cell_type": "code",
   "execution_count": 13,
   "metadata": {
    "collapsed": false
   },
   "outputs": [
    {
     "name": "stdout",
     "output_type": "stream",
     "text": [
      "play-off 1/2\n",
      "play-off 3/4\n",
      "semifinals\n",
      "bronze game\n",
      "final\n"
     ]
    }
   ],
   "source": [
    "for game in box_scores:\n",
    "    game_type = game.find('th', class_='game-header')\n",
    "    if game_type is not None:\n",
    "        game_type = game_type.text.strip().lower()\n",
    "        if not game_type.startswith('draw'):\n",
    "            print(game_type)"
   ]
  },
  {
   "cell_type": "code",
   "execution_count": 15,
   "metadata": {
    "collapsed": false
   },
   "outputs": [
    {
     "data": {
      "text/plain": [
       "('score-with-hammer', 'blank')"
      ]
     },
     "execution_count": 15,
     "metadata": {},
     "output_type": "execute_result"
    }
   ],
   "source": [
    "s = [4, 0]\n",
    "determine_end_types(*score, 0)"
   ]
  },
  {
   "cell_type": "code",
   "execution_count": null,
   "metadata": {
    "collapsed": true
   },
   "outputs": [],
   "source": []
  }
 ],
 "metadata": {
  "kernelspec": {
   "display_name": "Python 3",
   "language": "python",
   "name": "python3"
  },
  "language_info": {
   "codemirror_mode": {
    "name": "ipython",
    "version": 3
   },
   "file_extension": ".py",
   "mimetype": "text/x-python",
   "name": "python",
   "nbconvert_exporter": "python",
   "pygments_lexer": "ipython3",
   "version": "3.5.1"
  }
 },
 "nbformat": 4,
 "nbformat_minor": 0
}
