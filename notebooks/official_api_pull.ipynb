{
 "cells": [
  {
   "cell_type": "markdown",
   "metadata": {},
   "source": [
    "Official API Usage\n",
    "==================\n",
    "\n",
    "Since I've changed from using my homegrown API to my python interface to the official API, I'm going to redo the parsing and aggregating work I've done before, but with the different access. In addition, I am going to dump the pertinent JSON data into a saved repository so that I don't have to repull the data in the future, and create the CSV files I want to use as the basis of my analysis.\n",
    "\n",
    "The JSON files will contain raw data, and the CSV files will be the processed data."
   ]
  },
  {
   "cell_type": "code",
   "execution_count": 1,
   "metadata": {
    "collapsed": true
   },
   "outputs": [],
   "source": [
    "%matplotlib inline\n",
    "\n",
    "import json\n",
    "\n",
    "import matplotlib.pyplot as plt\n",
    "import numpy\n",
    "import pandas\n",
    "\n",
    "import wcf"
   ]
  },
  {
   "cell_type": "code",
   "execution_count": 2,
   "metadata": {
    "collapsed": true
   },
   "outputs": [],
   "source": [
    "wcf_access = wcf.WCF(timeout=20)\n",
    "wcf_access.load_and_connect('/home/mikemoran/bin/wcf/credentials.json')\n",
    "assert wcf_access"
   ]
  },
  {
   "cell_type": "code",
   "execution_count": 3,
   "metadata": {
    "collapsed": false
   },
   "outputs": [],
   "source": [
    "games = wcf_access.get_draws_by_tournament(555)"
   ]
  },
  {
   "cell_type": "code",
   "execution_count": 4,
   "metadata": {
    "collapsed": false
   },
   "outputs": [
    {
     "data": {
      "text/plain": [
       "71"
      ]
     },
     "execution_count": 4,
     "metadata": {},
     "output_type": "execute_result"
    }
   ],
   "source": [
    "len(games)"
   ]
  },
  {
   "cell_type": "code",
   "execution_count": 5,
   "metadata": {
    "collapsed": true
   },
   "outputs": [],
   "source": [
    "final = games[-1]"
   ]
  },
  {
   "cell_type": "code",
   "execution_count": 6,
   "metadata": {
    "collapsed": false
   },
   "outputs": [
    {
     "data": {
      "text/plain": [
       "{'DrawInfo': {'DrawNumber': 23,\n",
       "  'GameStart': '2016-04-10T15:00:00',\n",
       "  'Id': 6109,\n",
       "  'TournamentId': 555},\n",
       " 'Ends': [{'EndNumber': 1,\n",
       "   'GameId': 23974,\n",
       "   'Id': 135604,\n",
       "   'Team1': 0,\n",
       "   'Team2': 1},\n",
       "  {'EndNumber': 2, 'GameId': 23974, 'Id': 135605, 'Team1': 0, 'Team2': 0},\n",
       "  {'EndNumber': 3, 'GameId': 23974, 'Id': 135606, 'Team1': 2, 'Team2': 0},\n",
       "  {'EndNumber': 4, 'GameId': 23974, 'Id': 135607, 'Team1': 0, 'Team2': 0},\n",
       "  {'EndNumber': 5, 'GameId': 23974, 'Id': 135608, 'Team1': 0, 'Team2': 2},\n",
       "  {'EndNumber': 6, 'GameId': 23974, 'Id': 135609, 'Team1': 1, 'Team2': 0},\n",
       "  {'EndNumber': 7, 'GameId': 23974, 'Id': 135610, 'Team1': 0, 'Team2': 0},\n",
       "  {'EndNumber': 8, 'GameId': 23974, 'Id': 135611, 'Team1': 0, 'Team2': 0},\n",
       "  {'EndNumber': 9, 'GameId': 23974, 'Id': 135612, 'Team1': 0, 'Team2': 2}],\n",
       " 'GroupInformation': {'Id': 1, 'Name': 'Group A'},\n",
       " 'Id': 23974,\n",
       " 'PlayoffGameNumber': None,\n",
       " 'Round': {'Abbreviation': 'F',\n",
       "  'DrawNumber': 1000,\n",
       "  'GameType': 4,\n",
       "  'Id': 56,\n",
       "  'Name': 'Final'},\n",
       " 'Sheet': 3,\n",
       " 'Team1': {'LastShotDraw': 0.0,\n",
       "  'LeftOnClock': None,\n",
       "  'Participants': None,\n",
       "  'Percentage': 87.0,\n",
       "  'Result': 3,\n",
       "  'Team': {'AssociationId': 14,\n",
       "   'Code': 'DEN',\n",
       "   'EndDate': None,\n",
       "   'FlagFileName': 'http://wcfresults.azurewebsites.net/Content/Images/Flags/denmark.gif',\n",
       "   'FlagFileX': 96,\n",
       "   'FlagFileY': 64,\n",
       "   'Links': [],\n",
       "   'Name': 'Denmark',\n",
       "   'OfficialName': 'Danish Curling Association',\n",
       "   'StartDate': '1971-01-01T00:00:00'},\n",
       "  'TeamNumber': None},\n",
       " 'Team2': {'LastShotDraw': 0.0,\n",
       "  'LeftOnClock': None,\n",
       "  'Participants': None,\n",
       "  'Percentage': 92.0,\n",
       "  'Result': 5,\n",
       "  'Team': {'AssociationId': 7,\n",
       "   'Code': 'CAN',\n",
       "   'EndDate': None,\n",
       "   'FlagFileName': 'http://wcfresults.azurewebsites.net/Content/Images/Flags/canada.gif',\n",
       "   'FlagFileX': 128,\n",
       "   'FlagFileY': 64,\n",
       "   'Links': [],\n",
       "   'Name': 'Canada',\n",
       "   'OfficialName': 'Curling Canada',\n",
       "   'StartDate': '1966-01-01T00:00:00'},\n",
       "  'TeamNumber': None},\n",
       " 'TossWinner': 2,\n",
       " 'TournamentId': 555}"
      ]
     },
     "execution_count": 6,
     "metadata": {},
     "output_type": "execute_result"
    }
   ],
   "source": [
    "final"
   ]
  },
  {
   "cell_type": "markdown",
   "metadata": {},
   "source": [
    "Using this one game as a basic, let's build up a dictionary to \"rehold\" the information that I will actually want to keep. This process shouldn't be too hard, so that's nice."
   ]
  },
  {
   "cell_type": "code",
   "execution_count": 7,
   "metadata": {
    "collapsed": false
   },
   "outputs": [],
   "source": [
    "def convert_game(game):\n",
    "    team1 = {}\n",
    "    team1['Percentage'] = game['Team1']['Percentage']\n",
    "    team1['Total'] = game['Team1']['Result']\n",
    "    team1['Name'] = game['Team1']['Team']['Name']\n",
    "    team1['Code'] = game['Team1']['Team']['Code']\n",
    "    team1['AssociationId'] = game['Team1']['Team']['AssociationId']\n",
    "    team2 = {}\n",
    "    team2['Percentage'] = game['Team2']['Percentage']\n",
    "    team2['Total'] = game['Team2']['Result']\n",
    "    team2['Name'] = game['Team2']['Team']['Name']\n",
    "    team2['Code'] = game['Team2']['Team']['Code']\n",
    "    team2['AssociationId'] = game['Team2']['Team']['AssociationId']\n",
    "\n",
    "    ends = []\n",
    "    for end in game['Ends']:\n",
    "        this_end = {}\n",
    "        this_end['EndNumber'] = end['EndNumber']\n",
    "        this_end['Team1'] = end['Team1']\n",
    "        this_end['Team2'] = end['Team2']\n",
    "        ends.append(this_end)\n",
    "\n",
    "    game_dict = {}\n",
    "    game_dict['TournamentId'] = game['TournamentId']\n",
    "    game_dict['LSFE'] = game['TossWinner']\n",
    "    game_dict['Team1'] = team1\n",
    "    game_dict['Team2'] = team2\n",
    "    game_dict['Draw'] = game['Round']['Name']\n",
    "    game_dict['Ends'] = ends\n",
    "    return game_dict\n",
    "\n",
    "# final_dict = convert_game(final)\n",
    "# final_dict"
   ]
  },
  {
   "cell_type": "code",
   "execution_count": 8,
   "metadata": {
    "collapsed": false
   },
   "outputs": [],
   "source": [
    "game_dicts = [convert_game(g) for g in games]\n",
    "# game_dicts"
   ]
  },
  {
   "cell_type": "markdown",
   "metadata": {},
   "source": [
    "Now that we have a list of dictionaries holding all of the game data, let's save this in our data directory for later use."
   ]
  },
  {
   "cell_type": "code",
   "execution_count": 9,
   "metadata": {
    "collapsed": true
   },
   "outputs": [],
   "source": [
    "with open('../data/555.json', 'w') as f:\n",
    "    json.dump(game_dicts, f, indent=4)"
   ]
  },
  {
   "cell_type": "markdown",
   "metadata": {},
   "source": [
    "OK, awesome! So, let's dump all of our JSON data now, then process it later."
   ]
  },
  {
   "cell_type": "code",
   "execution_count": null,
   "metadata": {
    "collapsed": false
   },
   "outputs": [],
   "source": [
    "import time\n",
    "\n",
    "failed = []\n",
    "complete = []\n",
    "\n",
    "for i in range(1, 556):\n",
    "    try:\n",
    "        games = wcf_access.get_draws_by_tournament(i)\n",
    "        game_dicts = [convert_game(g) for g in games]\n",
    "        with open('../data/{:03d}.json'.format(i), 'w') as f:\n",
    "            json.dump(game_dicts, f, indent=2)\n",
    "        complete.append(i)\n",
    "    except:\n",
    "        failed.append(i)\n",
    "    time.sleep(5)"
   ]
  },
  {
   "cell_type": "code",
   "execution_count": null,
   "metadata": {
    "collapsed": true
   },
   "outputs": [],
   "source": []
  }
 ],
 "metadata": {
  "kernelspec": {
   "display_name": "Python 3",
   "language": "python",
   "name": "python3"
  },
  "language_info": {
   "codemirror_mode": {
    "name": "ipython",
    "version": 3
   },
   "file_extension": ".py",
   "mimetype": "text/x-python",
   "name": "python",
   "nbconvert_exporter": "python",
   "pygments_lexer": "ipython3",
   "version": "3.5.1"
  }
 },
 "nbformat": 4,
 "nbformat_minor": 0
}
