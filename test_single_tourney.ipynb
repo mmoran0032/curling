{
 "cells": [
  {
   "cell_type": "markdown",
   "metadata": {},
   "source": [
    "TEST SINGLE TOURNAMENT\n",
    "=============\n",
    "\n",
    "Easy way to check to see if a single tournament is formatted poorly."
   ]
  },
  {
   "cell_type": "code",
   "execution_count": 1,
   "metadata": {
    "ExecuteTime": {
     "end_time": "2017-09-28T20:19:33.225791Z",
     "start_time": "2017-09-28T20:19:28.408856Z"
    }
   },
   "outputs": [
    {
     "name": "stdout",
     "output_type": "stream",
     "text": [
      "0.6.1\n"
     ]
    }
   ],
   "source": [
    "import wcf\n",
    "\n",
    "from processing.game import Game\n",
    "from processing.pipeline import convert\n",
    "\n",
    "print(wcf.__version__)\n",
    "conn = wcf.API('../credentials/wcf.json').connect()"
   ]
  },
  {
   "cell_type": "code",
   "execution_count": 2,
   "metadata": {
    "ExecuteTime": {
     "end_time": "2017-09-28T20:19:35.104796Z",
     "start_time": "2017-09-28T20:19:34.017804Z"
    }
   },
   "outputs": [
    {
     "data": {
      "text/plain": [
       "{'DrawInfo': {'DrawNumber': 20,\n",
       "  'GameStart': '2007-04-06T14:00:00',\n",
       "  'Id': 1588,\n",
       "  'OdfId': None,\n",
       "  'TournamentId': 294},\n",
       " 'Ends': [{'EndNumber': 1,\n",
       "   'GameId': 13002,\n",
       "   'Id': 41816,\n",
       "   'Team1': 2,\n",
       "   'Team2': 0},\n",
       "  {'EndNumber': 2, 'GameId': 13002, 'Id': 41817, 'Team1': 0, 'Team2': 1},\n",
       "  {'EndNumber': 3, 'GameId': 13002, 'Id': 41818, 'Team1': 0, 'Team2': 1},\n",
       "  {'EndNumber': 4, 'GameId': 13002, 'Id': 41819, 'Team1': 1, 'Team2': 0},\n",
       "  {'EndNumber': 5, 'GameId': 13002, 'Id': 41820, 'Team1': 0, 'Team2': 1},\n",
       "  {'EndNumber': 6, 'GameId': 13002, 'Id': 41821, 'Team1': 2, 'Team2': 0},\n",
       "  {'EndNumber': 7, 'GameId': 13002, 'Id': 41822, 'Team1': 0, 'Team2': 1},\n",
       "  {'EndNumber': 8, 'GameId': 13002, 'Id': 41823, 'Team1': 2, 'Team2': 0},\n",
       "  {'EndNumber': 9, 'GameId': 13002, 'Id': 41824, 'Team1': 1, 'Team2': 0}],\n",
       " 'GroupInformation': {'Id': 1, 'Name': 'Group A'},\n",
       " 'Id': 13002,\n",
       " 'OdfId': None,\n",
       " 'PlayoffGameNumber': None,\n",
       " 'Round': {'Abbreviation': 'T2',\n",
       "  'DrawNumber': 201,\n",
       "  'GameType': 0,\n",
       "  'Id': 35,\n",
       "  'Name': 'Tie-break #2',\n",
       "  'OdfId': None},\n",
       " 'Sheet': 3,\n",
       " 'Team1': {'LastShotDraw': None,\n",
       "  'LeftOnClock': None,\n",
       "  'Participants': None,\n",
       "  'Percentage': None,\n",
       "  'Result': 8,\n",
       "  'Team': {'AssociationId': 13,\n",
       "   'Code': 'GER',\n",
       "   'EndDate': None,\n",
       "   'FlagFileName': 'http://wcfresults.azurewebsites.net/Content/Images/Flags/germany.gif',\n",
       "   'FlagFileX': 96,\n",
       "   'FlagFileY': 64,\n",
       "   'Links': [],\n",
       "   'Name': 'Germany',\n",
       "   'OfficialName': 'German Curling Association',\n",
       "   'StartDate': '1967-01-01T00:00:00'},\n",
       "  'TeamNumber': None},\n",
       " 'Team2': {'LastShotDraw': None,\n",
       "  'LeftOnClock': None,\n",
       "  'Participants': None,\n",
       "  'Percentage': None,\n",
       "  'Result': 4,\n",
       "  'Team': {'AssociationId': 9,\n",
       "   'Code': 'SWE',\n",
       "   'EndDate': None,\n",
       "   'FlagFileName': 'http://wcfresults.azurewebsites.net/Content/Images/Flags/sweden.gif',\n",
       "   'FlagFileX': 413,\n",
       "   'FlagFileY': 260,\n",
       "   'Links': [],\n",
       "   'Name': 'Sweden',\n",
       "   'OfficialName': 'Swedish Curling Association',\n",
       "   'StartDate': '1966-01-01T00:00:00'},\n",
       "  'TeamNumber': None},\n",
       " 'TossWinner': 1,\n",
       " 'TournamentId': 294}"
      ]
     },
     "execution_count": 2,
     "metadata": {},
     "output_type": "execute_result"
    }
   ],
   "source": [
    "test_tourney = conn.get_draws_by_tournament(294)\n",
    "test_game = test_tourney[-1]\n",
    "\n",
    "test_game"
   ]
  },
  {
   "cell_type": "code",
   "execution_count": 3,
   "metadata": {
    "ExecuteTime": {
     "end_time": "2017-09-28T20:19:36.532026Z",
     "start_time": "2017-09-28T20:19:36.528604Z"
    }
   },
   "outputs": [
    {
     "data": {
      "text/plain": [
       "1"
      ]
     },
     "execution_count": 3,
     "metadata": {},
     "output_type": "execute_result"
    }
   ],
   "source": [
    "test_game['TossWinner']"
   ]
  },
  {
   "cell_type": "code",
   "execution_count": 4,
   "metadata": {
    "ExecuteTime": {
     "end_time": "2017-09-28T20:19:37.489569Z",
     "start_time": "2017-09-28T20:19:37.485007Z"
    }
   },
   "outputs": [
    {
     "name": "stdout",
     "output_type": "stream",
     "text": [
      "GER* None | 2 0 0 1 0 2 0 2 1 | 8\n",
      "SWE  None | 0 1 1 0 1 0 1 0 0 | 4\n"
     ]
    }
   ],
   "source": [
    "test_game = Game(test_game).convert()\n",
    "raw_data = test_game.data\n",
    "test_game.convert()\n",
    "\n",
    "print(test_game)"
   ]
  },
  {
   "cell_type": "code",
   "execution_count": 5,
   "metadata": {
    "ExecuteTime": {
     "end_time": "2017-09-28T20:19:38.145746Z",
     "start_time": "2017-09-28T20:19:38.134266Z"
    }
   },
   "outputs": [
    {
     "name": "stdout",
     "output_type": "stream",
     "text": [
      "1\n",
      "1\n",
      "2\n",
      "2\n",
      "2\n",
      "None\n",
      "None\n",
      "1\n",
      "2\n",
      "1\n",
      "1\n",
      "2\n",
      "1\n",
      "1\n",
      "1\n",
      "1\n",
      "1\n",
      "1\n",
      "2\n",
      "1\n",
      "2\n",
      "2\n",
      "2\n",
      "2\n",
      "2\n",
      "2\n",
      "2\n",
      "2\n",
      "2\n",
      "2\n",
      "1\n",
      "1\n",
      "2\n",
      "2\n",
      "2\n",
      "2\n",
      "2\n",
      "2\n",
      "2\n",
      "1\n",
      "2\n",
      "1\n",
      "2\n",
      "2\n",
      "1\n",
      "1\n",
      "2\n",
      "2\n",
      "2\n",
      "2\n",
      "1\n",
      "2\n",
      "1\n",
      "2\n",
      "2\n",
      "2\n",
      "2\n",
      "1\n",
      "1\n",
      "2\n",
      "1\n",
      "2\n",
      "1\n",
      "1\n",
      "2\n",
      "1\n",
      "1\n",
      "2\n",
      "1\n",
      "1\n",
      "1\n",
      "1\n",
      "1\n"
     ]
    }
   ],
   "source": [
    "for game in test_tourney:\n",
    "    print(game['TossWinner'])"
   ]
  },
  {
   "cell_type": "code",
   "execution_count": 6,
   "metadata": {
    "ExecuteTime": {
     "end_time": "2017-09-28T20:19:38.910780Z",
     "start_time": "2017-09-28T20:19:38.904553Z"
    }
   },
   "outputs": [
    {
     "data": {
      "text/plain": [
       "{'DrawInfo': {'DrawNumber': 2,\n",
       "  'GameStart': '2007-03-31T18:00:00',\n",
       "  'Id': 1570,\n",
       "  'OdfId': None,\n",
       "  'TournamentId': 294},\n",
       " 'Ends': [{'EndNumber': 1,\n",
       "   'GameId': 12815,\n",
       "   'Id': 41208,\n",
       "   'Team1': 0,\n",
       "   'Team2': 0},\n",
       "  {'EndNumber': 2, 'GameId': 12815, 'Id': 41209, 'Team1': 0, 'Team2': 0},\n",
       "  {'EndNumber': 3, 'GameId': 12815, 'Id': 41210, 'Team1': 1, 'Team2': 0},\n",
       "  {'EndNumber': 4, 'GameId': 12815, 'Id': 41211, 'Team1': 0, 'Team2': 2},\n",
       "  {'EndNumber': 5, 'GameId': 12815, 'Id': 41212, 'Team1': 2, 'Team2': 0},\n",
       "  {'EndNumber': 6, 'GameId': 12815, 'Id': 41213, 'Team1': 1, 'Team2': 0},\n",
       "  {'EndNumber': 7, 'GameId': 12815, 'Id': 41214, 'Team1': 0, 'Team2': 0},\n",
       "  {'EndNumber': 8, 'GameId': 12815, 'Id': 41215, 'Team1': 0, 'Team2': 2},\n",
       "  {'EndNumber': 9, 'GameId': 12815, 'Id': 41216, 'Team1': 2, 'Team2': 0},\n",
       "  {'EndNumber': 10, 'GameId': 12815, 'Id': 41217, 'Team1': 0, 'Team2': 1}],\n",
       " 'GroupInformation': {'Id': 1, 'Name': 'Group A'},\n",
       " 'Id': 12815,\n",
       " 'OdfId': None,\n",
       " 'PlayoffGameNumber': None,\n",
       " 'Round': {'Abbreviation': '2',\n",
       "  'DrawNumber': 2,\n",
       "  'GameType': 0,\n",
       "  'Id': 2,\n",
       "  'Name': 'Draw #2',\n",
       "  'OdfId': None},\n",
       " 'Sheet': 2,\n",
       " 'Team1': {'LastShotDraw': None,\n",
       "  'LeftOnClock': None,\n",
       "  'Participants': None,\n",
       "  'Percentage': None,\n",
       "  'Result': 6,\n",
       "  'Team': {'AssociationId': 6,\n",
       "   'Code': 'SCO',\n",
       "   'EndDate': None,\n",
       "   'FlagFileName': 'http://wcfresults.azurewebsites.net/Content/Images/Flags/scotland.gif',\n",
       "   'FlagFileX': 430,\n",
       "   'FlagFileY': 260,\n",
       "   'Links': [],\n",
       "   'Name': 'Scotland',\n",
       "   'OfficialName': 'Royal Caledonian Curling Club',\n",
       "   'StartDate': '1966-01-01T00:00:00'},\n",
       "  'TeamNumber': None},\n",
       " 'Team2': {'LastShotDraw': None,\n",
       "  'LeftOnClock': None,\n",
       "  'Participants': None,\n",
       "  'Percentage': None,\n",
       "  'Result': 5,\n",
       "  'Team': {'AssociationId': 32,\n",
       "   'Code': 'KOR',\n",
       "   'EndDate': None,\n",
       "   'FlagFileName': 'http://wcfresults.azurewebsites.net/Content/Images/Flags/skorea.gif',\n",
       "   'FlagFileX': 99,\n",
       "   'FlagFileY': 65,\n",
       "   'Links': [],\n",
       "   'Name': 'Korea',\n",
       "   'OfficialName': 'Korean Curling Federation',\n",
       "   'StartDate': '1994-01-01T00:00:00'},\n",
       "  'TeamNumber': None},\n",
       " 'TossWinner': None,\n",
       " 'TournamentId': 294}"
      ]
     },
     "execution_count": 6,
     "metadata": {},
     "output_type": "execute_result"
    }
   ],
   "source": [
    "test_game = test_tourney[5]\n",
    "test_game"
   ]
  },
  {
   "cell_type": "code",
   "execution_count": 7,
   "metadata": {
    "ExecuteTime": {
     "end_time": "2017-09-28T20:19:42.870415Z",
     "start_time": "2017-09-28T20:19:42.865571Z"
    }
   },
   "outputs": [
    {
     "data": {
      "text/plain": [
       "(PosixPath('data/men/294.json'), 'data/men/294.json')"
      ]
     },
     "execution_count": 7,
     "metadata": {},
     "output_type": "execute_result"
    }
   ],
   "source": [
    "from pathlib import Path\n",
    "test_path = Path('data/men')\n",
    "test_path /= '294.json'\n",
    "test_path, str(test_path)"
   ]
  },
  {
   "cell_type": "code",
   "execution_count": null,
   "metadata": {
    "collapsed": true
   },
   "outputs": [],
   "source": []
  }
 ],
 "metadata": {
  "kernelspec": {
   "display_name": "Python 3",
   "language": "python",
   "name": "python3"
  },
  "language_info": {
   "codemirror_mode": {
    "name": "ipython",
    "version": 3
   },
   "file_extension": ".py",
   "mimetype": "text/x-python",
   "name": "python",
   "nbconvert_exporter": "python",
   "pygments_lexer": "ipython3",
   "version": "3.6.1"
  }
 },
 "nbformat": 4,
 "nbformat_minor": 2
}
